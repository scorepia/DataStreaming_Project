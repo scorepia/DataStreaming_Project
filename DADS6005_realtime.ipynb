{
  "nbformat": 4,
  "nbformat_minor": 0,
  "metadata": {
    "colab": {
      "provenance": [],
      "toc_visible": true,
      "authorship_tag": "ABX9TyMRt+4T33roXAvbGCIvX1e4",
      "include_colab_link": true
    },
    "kernelspec": {
      "name": "python3",
      "display_name": "Python 3"
    },
    "language_info": {
      "name": "python"
    }
  },
  "cells": [
    {
      "cell_type": "markdown",
      "metadata": {
        "id": "view-in-github",
        "colab_type": "text"
      },
      "source": [
        "<a href=\"https://colab.research.google.com/github/scorepia/Realtime6005_Project/blob/main/DADS6005_realtime.ipynb\" target=\"_parent\"><img src=\"https://colab.research.google.com/assets/colab-badge.svg\" alt=\"Open In Colab\"/></a>"
      ]
    },
    {
      "cell_type": "markdown",
      "source": [
        "# DADS6005 - Analyze by Reddit Data"
      ],
      "metadata": {
        "id": "rca10HQbi2xw"
      }
    },
    {
      "cell_type": "markdown",
      "source": [
        "##Reddit API"
      ],
      "metadata": {
        "id": "NWHeGYJFlOSq"
      }
    },
    {
      "cell_type": "code",
      "execution_count": 1,
      "metadata": {
        "colab": {
          "base_uri": "https://localhost:8080/"
        },
        "id": "zZXabIOTA7kz",
        "outputId": "de582ed2-80d2-4002-819d-d54821d851ed"
      },
      "outputs": [
        {
          "output_type": "stream",
          "name": "stdout",
          "text": [
            "Looking in indexes: https://pypi.org/simple, https://us-python.pkg.dev/colab-wheels/public/simple/\n",
            "Collecting praw\n",
            "  Downloading praw-7.6.1-py3-none-any.whl (188 kB)\n",
            "\u001b[2K     \u001b[90m━━━━━━━━━━━━━━━━━━━━━━━━━━━━━━━━━━━━━━━\u001b[0m \u001b[32m188.8/188.8 KB\u001b[0m \u001b[31m3.7 MB/s\u001b[0m eta \u001b[36m0:00:00\u001b[0m\n",
            "\u001b[?25hCollecting prawcore<3,>=2.1\n",
            "  Downloading prawcore-2.3.0-py3-none-any.whl (16 kB)\n",
            "Collecting websocket-client>=0.54.0\n",
            "  Downloading websocket_client-1.4.2-py3-none-any.whl (55 kB)\n",
            "\u001b[2K     \u001b[90m━━━━━━━━━━━━━━━━━━━━━━━━━━━━━━━━━━━━━━━━\u001b[0m \u001b[32m55.3/55.3 KB\u001b[0m \u001b[31m3.5 MB/s\u001b[0m eta \u001b[36m0:00:00\u001b[0m\n",
            "\u001b[?25hCollecting update-checker>=0.18\n",
            "  Downloading update_checker-0.18.0-py3-none-any.whl (7.0 kB)\n",
            "Requirement already satisfied: requests<3.0,>=2.6.0 in /usr/local/lib/python3.8/dist-packages (from prawcore<3,>=2.1->praw) (2.25.1)\n",
            "Requirement already satisfied: urllib3<1.27,>=1.21.1 in /usr/local/lib/python3.8/dist-packages (from requests<3.0,>=2.6.0->prawcore<3,>=2.1->praw) (1.24.3)\n",
            "Requirement already satisfied: chardet<5,>=3.0.2 in /usr/local/lib/python3.8/dist-packages (from requests<3.0,>=2.6.0->prawcore<3,>=2.1->praw) (4.0.0)\n",
            "Requirement already satisfied: certifi>=2017.4.17 in /usr/local/lib/python3.8/dist-packages (from requests<3.0,>=2.6.0->prawcore<3,>=2.1->praw) (2022.12.7)\n",
            "Requirement already satisfied: idna<3,>=2.5 in /usr/local/lib/python3.8/dist-packages (from requests<3.0,>=2.6.0->prawcore<3,>=2.1->praw) (2.10)\n",
            "Installing collected packages: websocket-client, update-checker, prawcore, praw\n",
            "Successfully installed praw-7.6.1 prawcore-2.3.0 update-checker-0.18.0 websocket-client-1.4.2\n"
          ]
        }
      ],
      "source": [
        "!pip install praw"
      ]
    },
    {
      "cell_type": "code",
      "source": [
        "!pip install requests"
      ],
      "metadata": {
        "colab": {
          "base_uri": "https://localhost:8080/"
        },
        "id": "yr9qD0FvLPgS",
        "outputId": "38816ce1-fbf7-4d9a-a2f3-e3e65cceaa7e"
      },
      "execution_count": 2,
      "outputs": [
        {
          "output_type": "stream",
          "name": "stdout",
          "text": [
            "Looking in indexes: https://pypi.org/simple, https://us-python.pkg.dev/colab-wheels/public/simple/\n",
            "Requirement already satisfied: requests in /usr/local/lib/python3.8/dist-packages (2.25.1)\n",
            "Requirement already satisfied: urllib3<1.27,>=1.21.1 in /usr/local/lib/python3.8/dist-packages (from requests) (1.24.3)\n",
            "Requirement already satisfied: certifi>=2017.4.17 in /usr/local/lib/python3.8/dist-packages (from requests) (2022.12.7)\n",
            "Requirement already satisfied: idna<3,>=2.5 in /usr/local/lib/python3.8/dist-packages (from requests) (2.10)\n",
            "Requirement already satisfied: chardet<5,>=3.0.2 in /usr/local/lib/python3.8/dist-packages (from requests) (4.0.0)\n"
          ]
        }
      ]
    },
    {
      "cell_type": "code",
      "source": [
        "# Install PySpark and Spark NLP\n",
        "!pip install -q pyspark==3.1.2 spark-nlp"
      ],
      "metadata": {
        "colab": {
          "base_uri": "https://localhost:8080/"
        },
        "id": "R4iO2t6biZ4a",
        "outputId": "4c568c73-45a0-49d2-a0eb-fca9defca64a"
      },
      "execution_count": 3,
      "outputs": [
        {
          "output_type": "stream",
          "name": "stdout",
          "text": [
            "\u001b[2K     \u001b[90m━━━━━━━━━━━━━━━━━━━━━━━━━━━━━━━━━━━━━━━\u001b[0m \u001b[32m212.4/212.4 MB\u001b[0m \u001b[31m5.6 MB/s\u001b[0m eta \u001b[36m0:00:00\u001b[0m\n",
            "\u001b[?25h  Preparing metadata (setup.py) ... \u001b[?25l\u001b[?25hdone\n",
            "\u001b[2K     \u001b[90m━━━━━━━━━━━━━━━━━━━━━━━━━━━━━━━━━━━━━━\u001b[0m \u001b[32m453.5/453.5 KB\u001b[0m \u001b[31m29.2 MB/s\u001b[0m eta \u001b[36m0:00:00\u001b[0m\n",
            "\u001b[2K     \u001b[90m━━━━━━━━━━━━━━━━━━━━━━━━━━━━━━━━━━━━━━\u001b[0m \u001b[32m198.6/198.6 KB\u001b[0m \u001b[31m17.9 MB/s\u001b[0m eta \u001b[36m0:00:00\u001b[0m\n",
            "\u001b[?25h  Building wheel for pyspark (setup.py) ... \u001b[?25l\u001b[?25hdone\n"
          ]
        }
      ]
    },
    {
      "cell_type": "markdown",
      "source": [
        "## Import modules and libraries"
      ],
      "metadata": {
        "id": "cFZR0eA1ihi8"
      }
    },
    {
      "cell_type": "code",
      "source": [
        "import pandas as pd\n",
        "import numpy as np\n",
        "import json\n",
        "from pyspark.ml import Pipeline\n",
        "from pyspark.sql import SparkSession\n",
        "import pyspark.sql.functions as F\n",
        "from sparknlp.annotator import *\n",
        "from sparknlp.base import *\n",
        "import sparknlp\n",
        "from sparknlp.pretrained import PretrainedPipeline\n",
        "import praw\n",
        "import requests"
      ],
      "metadata": {
        "id": "24_eJX0Qicqf"
      },
      "execution_count": 4,
      "outputs": []
    },
    {
      "cell_type": "code",
      "source": [
        "#setting reddit api key\n",
        "reddit = praw.Reddit(\n",
        "    client_id='XVbrwUxDwMhsTdhig-xEEQ',\n",
        "    client_secret='ZyKvx4d4DUd0ixx0aLvygUNhls4Tdw',\n",
        "    user_agent='DADS6005_Realtime',\n",
        ")"
      ],
      "metadata": {
        "id": "tYrQnSdxitNX"
      },
      "execution_count": 5,
      "outputs": []
    },
    {
      "cell_type": "markdown",
      "source": [
        "## Scrapping topics data from subreddit \"Cocacola and Pepsi\""
      ],
      "metadata": {
        "id": "TaU8q0nZlSKx"
      }
    },
    {
      "cell_type": "code",
      "source": [
        "#test btc post on subreddit time filter all\n",
        "BTC_posts = reddit.subreddit('cocacola').hot()\n",
        "\n",
        "list_title = []\n",
        "for post in BTC_posts:\n",
        "    print(post.title)\n",
        "    list_title.append(post.title)"
      ],
      "metadata": {
        "colab": {
          "base_uri": "https://localhost:8080/"
        },
        "id": "7759HX1aLcKa",
        "outputId": "29524d31-75cd-4990-956d-a05bf8328b2b"
      },
      "execution_count": 6,
      "outputs": [
        {
          "output_type": "stream",
          "name": "stderr",
          "text": [
            "WARNING:praw:It appears that you are using PRAW in an asynchronous environment.\n",
            "It is strongly recommended to use Async PRAW: https://asyncpraw.readthedocs.io.\n",
            "See https://praw.readthedocs.io/en/latest/getting_started/multiple_instances.html#discord-bots-and-asynchronous-environments for more info.\n",
            "\n"
          ]
        },
        {
          "output_type": "stream",
          "name": "stdout",
          "text": [
            "Found these at my local Mexican restaurant today. I've never seen them before so I bought some haven't tried it yet.\n",
            "Has anyone seen this in our American stores? I found it in one of the stores in Ukraine.\n",
            "How wide and tall is a glass Coca Cola cap\n",
            "Here’s something I created, inspired by my love of Coca Cola\n",
            "Coca-Cola, 1971 - 'Hilltop' | \"I'd like to buy the world a Coke\"\n",
            "Coca Cola 'Have A Coke and a Smile' 1970's TV Commercial\n",
            "anyone know anything about this?\n",
            "Cafe de Coral HK 大家樂\n",
            "I prefer the sugar versions\n",
            "Anybody Knows what this is worth I found it in my woods ( Swerve Vanana Can)\n",
            "What the heck is this??\n",
            "Has anyone made peace with Coke Zero sugar?\n",
            "who wants this back?\n",
            "Coca-Cola from plastic bottles tastes awful\n",
            "Cola Bears\n",
            "Found a golden cap while drinking coke, does this mean anything?\n",
            "Unintentionally created a Coca Cola commercial\n",
            "Can someone help me how old is it?\n",
            "🧧\n",
            "Can't wait for customers to ask \" aY iS tHiS RrGuLaR SpRiTe Or sPrItE ZeRo?\n",
            "Got the McD x Coca Cola glass from my brother when he visited Qatar and the cap from my sister for my growing Coca Cola collection!\n",
            "Cherry Vanilla shelf is phased out at Walmart. Grocers list it but out of stock. Is it being phased out?\n",
            "Rare finds\n",
            "Strawberry Coke Zero?\n",
            "I have yet to find a duplicate of this bottle\n",
            "Any one else miss these coca cola ornament bottles\n",
            "1 year after covid and coca cola tastes horrible still\n",
            "Best Monster variety pack available imo 🤌😙 I didn’t even know these existed until today\n",
            "San Francisco 2005\n",
            "From the past 1-2 months\n",
            "Britney Spears\n",
            "What are all the Coca Cola Creations?\n",
            "Prepare for bubble! And make it double! To protect the world from carbonation To unite all colas within our nation\n",
            "Fellow Coke employees… do we own/distribute Prime now??\n",
            "Vintage Coca Cola Bottle From 1992\n",
            "Diet Coke clock\n",
            "Dr. Barry Popkin | The Truth About Sugar | #104 Homeless Romantic #sugar\n",
            "My Girlfriend prefers Vanilla Coke…\n",
            "Muscle Monster protein energy shake ￼vanilla flavor review ￼\n",
            "Help bring back Lift\n",
            "Coca Cola and Fanta Rasberry Slushie🇨🇭❤️\n",
            "2 Old glass coke bottles. Are they worth anything?\n",
            "Okay what do you actually get DIET Coca-Cola for?\n",
            "Last night, I tried Coca-Cola for the first time in about 10ish years. I remember Coke having a \"bite\" to it. I was DD, so I could definitely tell it wasn't what it used to be. What happened?\n",
            "Glass bottled, real sugar… snow chilled! Way to start the New Year right! 🥳\n",
            "How much should I sell this for (bought summer 2022, retro edition Fanta from a German supermarket)\n",
            "Computer desk decor\n",
            "Best coke out rn\n",
            "Discontinued Coke life caps\n",
            "HOCC何韻詩《汽水樽裡的咖啡》MV\n",
            "Black Panther design\n",
            "Why I don’t buy soda anymore\n",
            "Coke Zero\n",
            "About to try this, never seen before today\n",
            "Some Coke clothing I found\n",
            "Price dip switch interchangeable? Cavalier S-64\n",
            "Are these recycled bottles cleaned thoroughly?\n",
            "When I found out Lebron switched to Pepsi\n",
            "Coca Cola Life Australia\n",
            "【智識ESG】可口可樂稱霸市場係因為ESG？仲唔識睇ESG報告就大獲啦！｜林淑敏 李穎琳\n",
            "Puma First Round - 'Coca-Cola'\n",
            "Puma - Coca Cola Edition\n",
            "This guy bring a Pepsi to the Coca Cola Store. Credits to: Plainrock124 Video not by me.\n",
            "The Shocking Story of how Coca-Cola Was Invented!\n",
            "Why do they no longer make the Santa Claus cans?\n",
            "Does anyone one from when this bottle is?\n",
            "More old coke....\n",
            "Does anyone know why this Diet Coke has a white bottle cap instead of gray?\n",
            "Thoughts on Pepsi?\n",
            "Hey Coca-Cola fans, I just found the updated Orange Vanilla Coca-Cola bottles and such in a Walmart website.. does this mean it’s gonna return one day?\n",
            "Need help identifying an old item\n",
            "For Puma X Coca Cola. Let me know what you think. #PumaXCocacola #Sneakerhead\n",
            "New Coke should come back in 2025\n",
            "Which position should I shoot for?Which pays more?\n",
            "Opened Cans Of Coke\n",
            "Strength\n",
            "Coca-Cola Polar Bears (1993)\n",
            "Coca-Cola has the 12th oldest logo that still exists today\n",
            "Sprite Zero Sugar?\n",
            "Starlight\n",
            "Christmas Always Finds Its Way\n",
            "Coke Zero has taken over my fridge.\n",
            "Columbia Pictures Television, a Unit of The Coca-Cola Company (1982-87)\n",
            "uhhhh?\n",
            "my friend has some bottles and cans of coke, worth anything?\n",
            "Diet Coke with Red tab, Is it rare?\n",
            "Jimmy Hogan\n",
            "ISO: Winter Spiced Cranberry Sprite - Atlanta Area\n",
            "Beverly vs chinotto\n",
            "Christmas 2015 at Hong Kong\n",
            "A candystore near me had my favorite 🇨🇭🤝🇵🇱\n",
            "🇯🇵\n",
            "Difference between Diet Coke and Coca-Cola Light/Sabor Liegro?\n",
            "Tasty Peach Coke From China 🇨🇳\n",
            "League of Legends: Wild Rift mini can promo\n",
            "A Kind of Magic - Danna Paola, Felukah, Tamtam (Coke Studio Performance For FIFA World Cup™)\n",
            "Dreamworld Coke That I Had When I Went To The USA 🇺🇸 Last Month\n",
            "anyone know where I can find the 35 can pack for cheap?\n",
            "90's me looking like I was plucked from a coca cola commercial\n",
            "for my starlight coke lovers\n"
          ]
        }
      ]
    },
    {
      "cell_type": "markdown",
      "source": [
        "##Spark NLP with Pretrain model"
      ],
      "metadata": {
        "id": "q7eid0AlrEty"
      }
    },
    {
      "cell_type": "markdown",
      "source": [
        "### Sentiment Analysis base on Twitter "
      ],
      "metadata": {
        "id": "FTLSbcu7vwbU"
      }
    },
    {
      "cell_type": "code",
      "source": [
        "spark = sparknlp.start()"
      ],
      "metadata": {
        "id": "j4Fa2Evsd4Do"
      },
      "execution_count": 7,
      "outputs": []
    },
    {
      "cell_type": "code",
      "source": [
        "#define pretrain model 'sentimentdl_use_imdb'\n",
        "MODEL_NAME='sentimentdl_use_twitter'"
      ],
      "metadata": {
        "id": "n-InvvuPd8Zv"
      },
      "execution_count": 8,
      "outputs": []
    },
    {
      "cell_type": "code",
      "source": [
        "#define nlp pipeline \n",
        "documentAssembler = DocumentAssembler()\\\n",
        "    .setInputCol(\"text\")\\\n",
        "    .setOutputCol(\"document\")\n",
        "    \n",
        "use = UniversalSentenceEncoder.pretrained(name=\"tfhub_use\", lang=\"en\")\\\n",
        " .setInputCols([\"document\"])\\\n",
        " .setOutputCol(\"sentence_embeddings\")\n",
        "\n",
        "\n",
        "sentimentdl = SentimentDLModel.pretrained(name=MODEL_NAME, lang=\"en\")\\\n",
        "    .setInputCols([\"sentence_embeddings\"])\\\n",
        "    .setOutputCol(\"sentiment\")\n",
        "\n",
        "nlpPipeline = Pipeline(\n",
        "      stages = [\n",
        "          documentAssembler,\n",
        "          use,\n",
        "          sentimentdl\n",
        "      ])"
      ],
      "metadata": {
        "colab": {
          "base_uri": "https://localhost:8080/"
        },
        "id": "_DFoEsMXjqaY",
        "outputId": "0d607cf8-7445-48f8-bbaf-a005162e833e"
      },
      "execution_count": 9,
      "outputs": [
        {
          "output_type": "stream",
          "name": "stdout",
          "text": [
            "tfhub_use download started this may take some time.\n",
            "Approximate size to download 923.7 MB\n",
            "[OK!]\n",
            "sentimentdl_use_twitter download started this may take some time.\n",
            "Approximate size to download 11.4 MB\n",
            "[OK!]\n"
          ]
        }
      ]
    },
    {
      "cell_type": "code",
      "source": [
        "empty_df = spark.createDataFrame([['']]).toDF(\"text\")\n",
        "\n",
        "pipelineModel = nlpPipeline.fit(empty_df)\n",
        "\n",
        "df = spark.createDataFrame(pd.DataFrame({\"text\":list_title}))\n",
        "result = pipelineModel.transform(df)"
      ],
      "metadata": {
        "id": "EMv5ZbZ4jzMX"
      },
      "execution_count": 10,
      "outputs": []
    },
    {
      "cell_type": "code",
      "source": [
        "df_sentiment=result.select(F.explode(F.arrays_zip('document.result', 'sentiment.result')).alias(\"cols\")) \\\n",
        ".select(F.expr(\"cols['0']\").alias(\"post title\"),\n",
        "        F.expr(\"cols['1']\").alias(\"sentiment\")).show(20,truncate=False)"
      ],
      "metadata": {
        "colab": {
          "base_uri": "https://localhost:8080/"
        },
        "id": "k3dMPCOwkcZ_",
        "outputId": "030ae250-eb4a-4a60-92d0-d093548852a1"
      },
      "execution_count": 11,
      "outputs": [
        {
          "output_type": "stream",
          "name": "stdout",
          "text": [
            "+--------------------------------------------------------------------------------------------------------------------+---------+\n",
            "|post title                                                                                                          |sentiment|\n",
            "+--------------------------------------------------------------------------------------------------------------------+---------+\n",
            "|Found these at my local Mexican restaurant today. I've never seen them before so I bought some haven't tried it yet.|positive |\n",
            "|Has anyone seen this in our American stores? I found it in one of the stores in Ukraine.                            |positive |\n",
            "|How wide and tall is a glass Coca Cola cap                                                                          |negative |\n",
            "|Here’s something I created, inspired by my love of Coca Cola                                                        |positive |\n",
            "|Coca-Cola, 1971 - 'Hilltop' | \"I'd like to buy the world a Coke\"                                                    |positive |\n",
            "|Coca Cola 'Have A Coke and a Smile' 1970's TV Commercial                                                            |positive |\n",
            "|anyone know anything about this?                                                                                    |negative |\n",
            "|Cafe de Coral HK 大家樂                                                                                             |positive |\n",
            "|I prefer the sugar versions                                                                                         |positive |\n",
            "|Anybody Knows what this is worth I found it in my woods ( Swerve Vanana Can)                                        |negative |\n",
            "|What the heck is this??                                                                                             |negative |\n",
            "|Has anyone made peace with Coke Zero sugar?                                                                         |negative |\n",
            "|who wants this back?                                                                                                |positive |\n",
            "|Coca-Cola from plastic bottles tastes awful                                                                         |negative |\n",
            "|Cola Bears                                                                                                          |positive |\n",
            "|Found a golden cap while drinking coke, does this mean anything?                                                    |negative |\n",
            "|Unintentionally created a Coca Cola commercial                                                                      |positive |\n",
            "|Can someone help me how old is it?                                                                                  |negative |\n",
            "|🧧                                                                                                                  |neutral  |\n",
            "|Can't wait for customers to ask \" aY iS tHiS RrGuLaR SpRiTe Or sPrItE ZeRo?                                         |positive |\n",
            "+--------------------------------------------------------------------------------------------------------------------+---------+\n",
            "only showing top 20 rows\n",
            "\n"
          ]
        }
      ]
    },
    {
      "cell_type": "code",
      "source": [
        "twitter_DF = result.toPandas()"
      ],
      "metadata": {
        "id": "mQ1NmSMq83Ui"
      },
      "execution_count": 12,
      "outputs": []
    },
    {
      "cell_type": "markdown",
      "source": [
        "###Sentiment Analysis (Vivekn)"
      ],
      "metadata": {
        "id": "1jXm4u64s3yp"
      }
    },
    {
      "cell_type": "code",
      "source": [
        "document = DocumentAssembler() \\\n",
        ".setInputCol(\"text\") \\\n",
        ".setOutputCol(\"document\")\n",
        "\n",
        "token = Tokenizer() \\\n",
        ".setInputCols([\"document\"]) \\\n",
        ".setOutputCol(\"token\")\n",
        "\n",
        "normalizer = Normalizer() \\\n",
        ".setInputCols([\"token\"]) \\\n",
        ".setOutputCol(\"normal\")\n",
        "\n",
        "vivekn =  ViveknSentimentModel.pretrained() \\\n",
        ".setInputCols([\"document\", \"normal\"]) \\\n",
        ".setOutputCol(\"result_sentiment\")\n",
        "\n",
        "finisher = Finisher() \\\n",
        ".setInputCols([\"result_sentiment\"]) \\\n",
        ".setOutputCols(\"final_sentiment\")\n",
        "\n",
        "pipeline = Pipeline().setStages([document, token, normalizer, vivekn, finisher])\n",
        "\n",
        "df2 = spark.createDataFrame(pd.DataFrame({\"text\":list_title}))\n",
        "pipelineModel = pipeline.fit(df2)\n",
        "result2 = pipelineModel.transform(df2)\n",
        "\n",
        "result2.select(\"text\",\"final_sentiment\").show(20,truncate=False)"
      ],
      "metadata": {
        "colab": {
          "base_uri": "https://localhost:8080/"
        },
        "id": "YyH7wMmvr3mi",
        "outputId": "5451d8d5-d551-4019-f105-9ff867e430bb"
      },
      "execution_count": 13,
      "outputs": [
        {
          "output_type": "stream",
          "name": "stdout",
          "text": [
            "sentiment_vivekn download started this may take some time.\n",
            "Approximate size to download 873.6 KB\n",
            "[OK!]\n",
            "+--------------------------------------------------------------------------------------------------------------------+---------------+\n",
            "|text                                                                                                                |final_sentiment|\n",
            "+--------------------------------------------------------------------------------------------------------------------+---------------+\n",
            "|Found these at my local Mexican restaurant today. I've never seen them before so I bought some haven't tried it yet.|[negative]     |\n",
            "|Has anyone seen this in our American stores? I found it in one of the stores in Ukraine.                            |[negative]     |\n",
            "|How wide and tall is a glass Coca Cola cap                                                                          |[positive]     |\n",
            "|Here’s something I created, inspired by my love of Coca Cola                                                        |[positive]     |\n",
            "|Coca-Cola, 1971 - 'Hilltop' | \"I'd like to buy the world a Coke\"                                                    |[positive]     |\n",
            "|Coca Cola 'Have A Coke and a Smile' 1970's TV Commercial                                                            |[negative]     |\n",
            "|anyone know anything about this?                                                                                    |[negative]     |\n",
            "|Cafe de Coral HK 大家樂                                                                                             |[na]           |\n",
            "|I prefer the sugar versions                                                                                         |[positive]     |\n",
            "|Anybody Knows what this is worth I found it in my woods ( Swerve Vanana Can)                                        |[negative]     |\n",
            "|What the heck is this??                                                                                             |[negative]     |\n",
            "|Has anyone made peace with Coke Zero sugar?                                                                         |[negative]     |\n",
            "|who wants this back?                                                                                                |[positive]     |\n",
            "|Coca-Cola from plastic bottles tastes awful                                                                         |[negative]     |\n",
            "|Cola Bears                                                                                                          |[na]           |\n",
            "|Found a golden cap while drinking coke, does this mean anything?                                                    |[negative]     |\n",
            "|Unintentionally created a Coca Cola commercial                                                                      |[negative]     |\n",
            "|Can someone help me how old is it?                                                                                  |[negative]     |\n",
            "|🧧                                                                                                                  |[]             |\n",
            "|Can't wait for customers to ask \" aY iS tHiS RrGuLaR SpRiTe Or sPrItE ZeRo?                                         |[positive]     |\n",
            "+--------------------------------------------------------------------------------------------------------------------+---------------+\n",
            "only showing top 20 rows\n",
            "\n"
          ]
        }
      ]
    },
    {
      "cell_type": "markdown",
      "source": [
        "### Sentiment Analysis base on Imdb"
      ],
      "metadata": {
        "id": "X423NpZ9yERU"
      }
    },
    {
      "cell_type": "code",
      "source": [
        "model_imdb = 'sentimentdl_use_imdb'"
      ],
      "metadata": {
        "id": "Y-YulyfgyDBR"
      },
      "execution_count": 14,
      "outputs": []
    },
    {
      "cell_type": "code",
      "source": [
        "#define nlp pipeline \n",
        "documentAssembler = DocumentAssembler()\\\n",
        "    .setInputCol(\"text\")\\\n",
        "    .setOutputCol(\"document\")\n",
        "    \n",
        "use = UniversalSentenceEncoder.pretrained(name=\"tfhub_use\", lang=\"en\")\\\n",
        " .setInputCols([\"document\"])\\\n",
        " .setOutputCol(\"sentence_embeddings\")\n",
        "\n",
        "\n",
        "sentimentdl = SentimentDLModel.pretrained(name=model_imdb, lang=\"en\")\\\n",
        "    .setInputCols([\"sentence_embeddings\"])\\\n",
        "    .setOutputCol(\"sentiment\")\n",
        "\n",
        "nlpPipeline = Pipeline(\n",
        "      stages = [\n",
        "          documentAssembler,\n",
        "          use,\n",
        "          sentimentdl\n",
        "      ])"
      ],
      "metadata": {
        "colab": {
          "base_uri": "https://localhost:8080/"
        },
        "id": "B0YkbMqZyYIZ",
        "outputId": "f9256b29-9d9b-429a-fafa-dcdf2313c305"
      },
      "execution_count": 15,
      "outputs": [
        {
          "output_type": "stream",
          "name": "stdout",
          "text": [
            "tfhub_use download started this may take some time.\n",
            "Approximate size to download 923.7 MB\n",
            "[OK!]\n",
            "sentimentdl_use_imdb download started this may take some time.\n",
            "Approximate size to download 12 MB\n",
            "[OK!]\n"
          ]
        }
      ]
    },
    {
      "cell_type": "code",
      "source": [
        "empty_df_3 = spark.createDataFrame([['']]).toDF(\"text\")\n",
        "\n",
        "pipelineModel_3 = nlpPipeline.fit(empty_df_3)\n",
        "\n",
        "df_3 = spark.createDataFrame(pd.DataFrame({\"text\":list_title}))\n",
        "result_3 = pipelineModel.transform(df_3)"
      ],
      "metadata": {
        "id": "2sD_5is0ypaz"
      },
      "execution_count": 16,
      "outputs": []
    },
    {
      "cell_type": "code",
      "source": [
        "pandasDF = result_3.toPandas()"
      ],
      "metadata": {
        "id": "12IeoRrgy0QD"
      },
      "execution_count": 17,
      "outputs": []
    },
    {
      "cell_type": "code",
      "source": [
        "pandasDF.head(20)"
      ],
      "metadata": {
        "colab": {
          "base_uri": "https://localhost:8080/",
          "height": 676
        },
        "id": "NLbhZ8K52RKZ",
        "outputId": "9f35468d-60e8-48ca-fef2-7e4b9993913e"
      },
      "execution_count": 18,
      "outputs": [
        {
          "output_type": "execute_result",
          "data": {
            "text/plain": [
              "                                                 text final_sentiment\n",
              "0   Found these at my local Mexican restaurant tod...      [negative]\n",
              "1   Has anyone seen this in our American stores? I...      [negative]\n",
              "2          How wide and tall is a glass Coca Cola cap      [positive]\n",
              "3   Here’s something I created, inspired by my lov...      [positive]\n",
              "4   Coca-Cola, 1971 - 'Hilltop' | \"I'd like to buy...      [positive]\n",
              "5   Coca Cola 'Have A Coke and a Smile' 1970's TV ...      [negative]\n",
              "6                    anyone know anything about this?      [negative]\n",
              "7                                Cafe de Coral HK 大家樂            [na]\n",
              "8                         I prefer the sugar versions      [positive]\n",
              "9   Anybody Knows what this is worth I found it in...      [negative]\n",
              "10                            What the heck is this??      [negative]\n",
              "11        Has anyone made peace with Coke Zero sugar?      [negative]\n",
              "12                               who wants this back?      [positive]\n",
              "13        Coca-Cola from plastic bottles tastes awful      [negative]\n",
              "14                                         Cola Bears            [na]\n",
              "15  Found a golden cap while drinking coke, does t...      [negative]\n",
              "16     Unintentionally created a Coca Cola commercial      [negative]\n",
              "17                 Can someone help me how old is it?      [negative]\n",
              "18                                                  🧧              []\n",
              "19  Can't wait for customers to ask \" aY iS tHiS R...      [positive]"
            ],
            "text/html": [
              "\n",
              "  <div id=\"df-57d243a8-bf77-4dd6-904b-9036dc58ff75\">\n",
              "    <div class=\"colab-df-container\">\n",
              "      <div>\n",
              "<style scoped>\n",
              "    .dataframe tbody tr th:only-of-type {\n",
              "        vertical-align: middle;\n",
              "    }\n",
              "\n",
              "    .dataframe tbody tr th {\n",
              "        vertical-align: top;\n",
              "    }\n",
              "\n",
              "    .dataframe thead th {\n",
              "        text-align: right;\n",
              "    }\n",
              "</style>\n",
              "<table border=\"1\" class=\"dataframe\">\n",
              "  <thead>\n",
              "    <tr style=\"text-align: right;\">\n",
              "      <th></th>\n",
              "      <th>text</th>\n",
              "      <th>final_sentiment</th>\n",
              "    </tr>\n",
              "  </thead>\n",
              "  <tbody>\n",
              "    <tr>\n",
              "      <th>0</th>\n",
              "      <td>Found these at my local Mexican restaurant tod...</td>\n",
              "      <td>[negative]</td>\n",
              "    </tr>\n",
              "    <tr>\n",
              "      <th>1</th>\n",
              "      <td>Has anyone seen this in our American stores? I...</td>\n",
              "      <td>[negative]</td>\n",
              "    </tr>\n",
              "    <tr>\n",
              "      <th>2</th>\n",
              "      <td>How wide and tall is a glass Coca Cola cap</td>\n",
              "      <td>[positive]</td>\n",
              "    </tr>\n",
              "    <tr>\n",
              "      <th>3</th>\n",
              "      <td>Here’s something I created, inspired by my lov...</td>\n",
              "      <td>[positive]</td>\n",
              "    </tr>\n",
              "    <tr>\n",
              "      <th>4</th>\n",
              "      <td>Coca-Cola, 1971 - 'Hilltop' | \"I'd like to buy...</td>\n",
              "      <td>[positive]</td>\n",
              "    </tr>\n",
              "    <tr>\n",
              "      <th>5</th>\n",
              "      <td>Coca Cola 'Have A Coke and a Smile' 1970's TV ...</td>\n",
              "      <td>[negative]</td>\n",
              "    </tr>\n",
              "    <tr>\n",
              "      <th>6</th>\n",
              "      <td>anyone know anything about this?</td>\n",
              "      <td>[negative]</td>\n",
              "    </tr>\n",
              "    <tr>\n",
              "      <th>7</th>\n",
              "      <td>Cafe de Coral HK 大家樂</td>\n",
              "      <td>[na]</td>\n",
              "    </tr>\n",
              "    <tr>\n",
              "      <th>8</th>\n",
              "      <td>I prefer the sugar versions</td>\n",
              "      <td>[positive]</td>\n",
              "    </tr>\n",
              "    <tr>\n",
              "      <th>9</th>\n",
              "      <td>Anybody Knows what this is worth I found it in...</td>\n",
              "      <td>[negative]</td>\n",
              "    </tr>\n",
              "    <tr>\n",
              "      <th>10</th>\n",
              "      <td>What the heck is this??</td>\n",
              "      <td>[negative]</td>\n",
              "    </tr>\n",
              "    <tr>\n",
              "      <th>11</th>\n",
              "      <td>Has anyone made peace with Coke Zero sugar?</td>\n",
              "      <td>[negative]</td>\n",
              "    </tr>\n",
              "    <tr>\n",
              "      <th>12</th>\n",
              "      <td>who wants this back?</td>\n",
              "      <td>[positive]</td>\n",
              "    </tr>\n",
              "    <tr>\n",
              "      <th>13</th>\n",
              "      <td>Coca-Cola from plastic bottles tastes awful</td>\n",
              "      <td>[negative]</td>\n",
              "    </tr>\n",
              "    <tr>\n",
              "      <th>14</th>\n",
              "      <td>Cola Bears</td>\n",
              "      <td>[na]</td>\n",
              "    </tr>\n",
              "    <tr>\n",
              "      <th>15</th>\n",
              "      <td>Found a golden cap while drinking coke, does t...</td>\n",
              "      <td>[negative]</td>\n",
              "    </tr>\n",
              "    <tr>\n",
              "      <th>16</th>\n",
              "      <td>Unintentionally created a Coca Cola commercial</td>\n",
              "      <td>[negative]</td>\n",
              "    </tr>\n",
              "    <tr>\n",
              "      <th>17</th>\n",
              "      <td>Can someone help me how old is it?</td>\n",
              "      <td>[negative]</td>\n",
              "    </tr>\n",
              "    <tr>\n",
              "      <th>18</th>\n",
              "      <td>🧧</td>\n",
              "      <td>[]</td>\n",
              "    </tr>\n",
              "    <tr>\n",
              "      <th>19</th>\n",
              "      <td>Can't wait for customers to ask \" aY iS tHiS R...</td>\n",
              "      <td>[positive]</td>\n",
              "    </tr>\n",
              "  </tbody>\n",
              "</table>\n",
              "</div>\n",
              "      <button class=\"colab-df-convert\" onclick=\"convertToInteractive('df-57d243a8-bf77-4dd6-904b-9036dc58ff75')\"\n",
              "              title=\"Convert this dataframe to an interactive table.\"\n",
              "              style=\"display:none;\">\n",
              "        \n",
              "  <svg xmlns=\"http://www.w3.org/2000/svg\" height=\"24px\"viewBox=\"0 0 24 24\"\n",
              "       width=\"24px\">\n",
              "    <path d=\"M0 0h24v24H0V0z\" fill=\"none\"/>\n",
              "    <path d=\"M18.56 5.44l.94 2.06.94-2.06 2.06-.94-2.06-.94-.94-2.06-.94 2.06-2.06.94zm-11 1L8.5 8.5l.94-2.06 2.06-.94-2.06-.94L8.5 2.5l-.94 2.06-2.06.94zm10 10l.94 2.06.94-2.06 2.06-.94-2.06-.94-.94-2.06-.94 2.06-2.06.94z\"/><path d=\"M17.41 7.96l-1.37-1.37c-.4-.4-.92-.59-1.43-.59-.52 0-1.04.2-1.43.59L10.3 9.45l-7.72 7.72c-.78.78-.78 2.05 0 2.83L4 21.41c.39.39.9.59 1.41.59.51 0 1.02-.2 1.41-.59l7.78-7.78 2.81-2.81c.8-.78.8-2.07 0-2.86zM5.41 20L4 18.59l7.72-7.72 1.47 1.35L5.41 20z\"/>\n",
              "  </svg>\n",
              "      </button>\n",
              "      \n",
              "  <style>\n",
              "    .colab-df-container {\n",
              "      display:flex;\n",
              "      flex-wrap:wrap;\n",
              "      gap: 12px;\n",
              "    }\n",
              "\n",
              "    .colab-df-convert {\n",
              "      background-color: #E8F0FE;\n",
              "      border: none;\n",
              "      border-radius: 50%;\n",
              "      cursor: pointer;\n",
              "      display: none;\n",
              "      fill: #1967D2;\n",
              "      height: 32px;\n",
              "      padding: 0 0 0 0;\n",
              "      width: 32px;\n",
              "    }\n",
              "\n",
              "    .colab-df-convert:hover {\n",
              "      background-color: #E2EBFA;\n",
              "      box-shadow: 0px 1px 2px rgba(60, 64, 67, 0.3), 0px 1px 3px 1px rgba(60, 64, 67, 0.15);\n",
              "      fill: #174EA6;\n",
              "    }\n",
              "\n",
              "    [theme=dark] .colab-df-convert {\n",
              "      background-color: #3B4455;\n",
              "      fill: #D2E3FC;\n",
              "    }\n",
              "\n",
              "    [theme=dark] .colab-df-convert:hover {\n",
              "      background-color: #434B5C;\n",
              "      box-shadow: 0px 1px 3px 1px rgba(0, 0, 0, 0.15);\n",
              "      filter: drop-shadow(0px 1px 2px rgba(0, 0, 0, 0.3));\n",
              "      fill: #FFFFFF;\n",
              "    }\n",
              "  </style>\n",
              "\n",
              "      <script>\n",
              "        const buttonEl =\n",
              "          document.querySelector('#df-57d243a8-bf77-4dd6-904b-9036dc58ff75 button.colab-df-convert');\n",
              "        buttonEl.style.display =\n",
              "          google.colab.kernel.accessAllowed ? 'block' : 'none';\n",
              "\n",
              "        async function convertToInteractive(key) {\n",
              "          const element = document.querySelector('#df-57d243a8-bf77-4dd6-904b-9036dc58ff75');\n",
              "          const dataTable =\n",
              "            await google.colab.kernel.invokeFunction('convertToInteractive',\n",
              "                                                     [key], {});\n",
              "          if (!dataTable) return;\n",
              "\n",
              "          const docLinkHtml = 'Like what you see? Visit the ' +\n",
              "            '<a target=\"_blank\" href=https://colab.research.google.com/notebooks/data_table.ipynb>data table notebook</a>'\n",
              "            + ' to learn more about interactive tables.';\n",
              "          element.innerHTML = '';\n",
              "          dataTable['output_type'] = 'display_data';\n",
              "          await google.colab.output.renderOutput(dataTable, element);\n",
              "          const docLink = document.createElement('div');\n",
              "          docLink.innerHTML = docLinkHtml;\n",
              "          element.appendChild(docLink);\n",
              "        }\n",
              "      </script>\n",
              "    </div>\n",
              "  </div>\n",
              "  "
            ]
          },
          "metadata": {},
          "execution_count": 18
        }
      ]
    },
    {
      "cell_type": "code",
      "source": [
        "show_result = pandasDF['final_sentiment'].value_counts()\n",
        "\n",
        "print(type(show_result))\n"
      ],
      "metadata": {
        "colab": {
          "base_uri": "https://localhost:8080/"
        },
        "id": "p7c9boZO6aXa",
        "outputId": "7f6d5995-ba0d-4d4c-e2aa-c528d274828b"
      },
      "execution_count": 19,
      "outputs": [
        {
          "output_type": "stream",
          "name": "stdout",
          "text": [
            "<class 'pandas.core.series.Series'>\n"
          ]
        }
      ]
    },
    {
      "cell_type": "code",
      "source": [
        "#define result data\n",
        "neg = show_result[0] \n",
        "pos = show_result [1]\n",
        "\n",
        "print(neg,pos)"
      ],
      "metadata": {
        "colab": {
          "base_uri": "https://localhost:8080/"
        },
        "id": "ph23ogCb8kCL",
        "outputId": "ceebec60-40ed-44bc-8e6c-005314fa6eea"
      },
      "execution_count": 20,
      "outputs": [
        {
          "output_type": "stream",
          "name": "stdout",
          "text": [
            "50 32\n"
          ]
        }
      ]
    },
    {
      "cell_type": "markdown",
      "source": [
        "### Sentiment Analysis - Pepsi"
      ],
      "metadata": {
        "id": "9uh3nDTN-XBD"
      }
    },
    {
      "cell_type": "code",
      "source": [
        "#test btc post on subreddit time filter all\n",
        "pepsi_posts = reddit.subreddit('Pepsi').hot()\n",
        "\n",
        "pepsi_title = []\n",
        "for post in pepsi_posts:\n",
        "    #print(post.title)\n",
        "    pepsi_title.append(post.title)\n",
        "\n",
        "print(pepsi_title)"
      ],
      "metadata": {
        "colab": {
          "base_uri": "https://localhost:8080/"
        },
        "id": "dU6G7f8P-gwC",
        "outputId": "fb79d685-38f2-46bf-e40c-699db96cce13"
      },
      "execution_count": 21,
      "outputs": [
        {
          "output_type": "stream",
          "name": "stderr",
          "text": [
            "WARNING:praw:It appears that you are using PRAW in an asynchronous environment.\n",
            "It is strongly recommended to use Async PRAW: https://asyncpraw.readthedocs.io.\n",
            "See https://praw.readthedocs.io/en/latest/getting_started/multiple_instances.html#discord-bots-and-asynchronous-environments for more info.\n",
            "\n"
          ]
        },
        {
          "output_type": "stream",
          "name": "stdout",
          "text": [
            "['Anyone know how old this might be? I believe it is an old Pepsi bottle cap', 'We all know about Mexican Coke, but...is Mexican Pepsi a thing?', 'I yearn for Wild Cherry Pepsi Nitro', 'trying new sierra mist replacement/ new pepsi sprite competitor', 'Pepsi says Zero Sugar formula was changed due to lack of ingredients', 'Pepsi Cd case I found at a resale store 50cents!', 'Is anyone here a union Pepsi sales rep? If so please DM me I have some questions. Thank you', 'Pepsi Cola Soda Shop 2023 Edition', 'Please support my change.org to bring back crystal pepsi!', \"Imma keep buying this again and again so they keep it around forever and you aren't gonna do anything about it 😈😈😈😈\", 'Contact Form to let Pepsi know we want the original Zero Sugar formula back 👇', 'Mountain Dew pitch black it’s black review of that new new￼￼', 'I found it it’s back', 'The new Pepsi Zero Sugar is great!', 'Is this caffeine figure real? The 2liter bottle has only half as much per 12oz servings.', 'Starry Sucks', \"is starry replacing SM on BiB? I'm still deliver it on fountain\", 'Mountain Dew Pitch Black ￼energy drink review that new new ￼', 'New formula', 'Is PepsiCola cream soda discontinued ??', \"What is wrong with these Pepsi's? We just got them and didn't notice how odd looking they are. My mom drink one and said that it was it was really gross and like carbonated water\", 'That new new Doritos, sweet and tangy BBQ chips review￼', \"meh, it's made with HFC, not better. than Sierra mist imo\", 'Can someone please explain why my can of Pepsi looks alive? I just opened it lol. After 5 minutes it’s still doing this.', 'Starry pepsi’s new sierra mist replacement ￼', 'Grocery sales job', 'Interesting Pepsi Varieties I found at T&T', 'Benefits any good?', 'HUEMN x Pepsi unveil a limited edition can design celebrating beauty in diversity', 'I shouldn’t of asked them that', 'Respectfully, why does Pepsi taste like it was poured across concrete before distribution? Is it intentional?', 'Rockstar recovery strawberry lemonade energy drink review', 'I just found this new soda', 'This is a weird one', 'Starry zero sugar lemon lime soda new from Pepsi￼￼ / replacing Sierra Mist￼', 'Found way out in the woods today', 'Just found this in the store. I don’t exactly know what it is though but it’s lemon lime soda.', 'Pepsi Less Max', 'pepsi refresh shot from japan', 'An Iraqi Pepsi i found, made in Baghdad and everything!', 'Brix cup used to confirm the ratio of soda to syrup', 'That New New Doritos dip, Spicy Nacho flavor review', 'Pepsi-Cola is the best mixer', 'I ate all the pulp out of minute maid... with Chopsticks!', 'Worth anything?', 'WTF is this new Pepsi Zero sh*t', 'Pepsi Max is dead', 'This new Pepsi flavor tastes like Discord nitro', \"DIET COKE HAS MORE CAFFEINE THAN PEPSI ZERO AND DIET COKE (not saying it's better stating facts)\", 'Like my new socks I got them for Christmas', 'Old Crystal Pepsi', 'That New New ￼Rockstar recovery strawberry lemonade￼ energy drink review ￼', 'They ruined Pepsi Zero Sugar', 'This Is my favorite tattoo I have', 'Before and after', 'new gatorlyte', 'Got Some Early Christmas Presents!', 'I’m not buying pepsi, they have stupid ads with cardi', 'Got a couple pieces from an antique shop in Missouri today! Was very happy to find the menu board', 'Found nice Christmas balls in my local supermarket', 'mmm pepsi', '🔴🔵⚪️PEPSI⚪️🔵🔴', 'Pepsi, where is my Jet? If you have not watched the Netflix 4 part documentary, highly recommend it.', 'Pepsi Commercial with Santa (Summer)', 'Pepsi Holiday Spice Commercial', 'Atlanta s3 ep3', 'Making a Pepsi-run with Pepsiman', 'I hope someone canned for this', 'The ornament I purchased at the Pepsi Museum in New Bern, NC. Happy Holidays! 🎅🎄', 'Which Name Would of Been Better?', 'i thought they only made diet pepsi cans, never came across a light one.', 'Pepsi Zero Lemon designed for pairing with fried chicken', 'Pilk is not new! Lindsay Lohan did not invent it. Laverne drank it all the time', 'What is wrong with Pepsi?', 'why do your vending machines suck?', 'Pilk?', 'Well', 'Pepsi, where is my Harrier Jet?!', 'Pure leaf sweet tea vs. Pure leaf extra sweet tea comparison video￼', 'Oh god, here it is.', 'Pulled from a 1989 time capsule in my town. Can we get this rad can design back?!', 'Is starbucks pepperming mocha ever coming back in glass bottles?', 'PRETTY PRETTY PLEASE BRING BACK PEPSI TWIST I’M BEGGING YOU I’LL DO ANYTHING', 'Pepsi nitros bomb!', 'What exactly is pepsi max?', 'I saw a picture of a Apple Pie flavor Pepsi. Is that a Real Flavor?', 'A documentary on the time Pepsi-Cola supposedly had Soviet warships', 'lazy circle K never touches their backstock', 'Left a Pepsi from a baseball game in my freezer then forgot about it 10 out of 10 would you again', 'is this real ?? if it is, does anyone know where i can find it or if i even still can ?? esp the tomoko bottle.. o:', 'A good day to sip some delicious Pepsi', 'Is Pepsi nitro a limited edition product?', 'Got this rare Britney Spears Pepsi can, i thought it was pretty cool', 'Another one of my Pepsi 70s collector glasses', 'idk how this store puller this off', 'Wish we had normal Pepsi in europe', 'I mixed 2 bottles of coca-cola and pepsi together, poured the mixture into 2 different cups, and then gave one to pepsiman and the other to cokeman', 'is this a common can?', 'Pepsis new product.', 'Asking for a second time']\n"
          ]
        }
      ]
    },
    {
      "cell_type": "code",
      "source": [
        "#define nlp pipeline \n",
        "documentAssembler = DocumentAssembler()\\\n",
        "    .setInputCol(\"text\")\\\n",
        "    .setOutputCol(\"document\")\n",
        "    \n",
        "use = UniversalSentenceEncoder.pretrained(name=\"tfhub_use\", lang=\"en\")\\\n",
        " .setInputCols([\"document\"])\\\n",
        " .setOutputCol(\"sentence_embeddings\")\n",
        "\n",
        "\n",
        "sentimentdl = SentimentDLModel.pretrained(name=model_imdb, lang=\"en\")\\\n",
        "    .setInputCols([\"sentence_embeddings\"])\\\n",
        "    .setOutputCol(\"sentiment\")\n",
        "\n",
        "nlpPipeline = Pipeline(\n",
        "      stages = [\n",
        "          documentAssembler,\n",
        "          use,\n",
        "          sentimentdl\n",
        "      ])"
      ],
      "metadata": {
        "colab": {
          "base_uri": "https://localhost:8080/"
        },
        "id": "VSl1myPE-WYy",
        "outputId": "3b95187d-38e3-401f-dcaa-7daf1c68264a"
      },
      "execution_count": 22,
      "outputs": [
        {
          "output_type": "stream",
          "name": "stdout",
          "text": [
            "tfhub_use download started this may take some time.\n",
            "Approximate size to download 923.7 MB\n",
            "[OK!]\n",
            "sentimentdl_use_imdb download started this may take some time.\n",
            "Approximate size to download 12 MB\n",
            "[OK!]\n"
          ]
        }
      ]
    },
    {
      "cell_type": "code",
      "source": [
        "empty_df_4 = spark.createDataFrame([['']]).toDF(\"text\")\n",
        "\n",
        "pipelineModel_4 = nlpPipeline.fit(empty_df_4)\n",
        "\n",
        "df_4 = spark.createDataFrame(pd.DataFrame({\"text\":pepsi_title}))\n",
        "result_4 = pipelineModel.transform(df_4)"
      ],
      "metadata": {
        "id": "DtGReqydBLKS"
      },
      "execution_count": 23,
      "outputs": []
    },
    {
      "cell_type": "code",
      "source": [
        "result_4.show()"
      ],
      "metadata": {
        "colab": {
          "base_uri": "https://localhost:8080/"
        },
        "id": "XzyJv7TMAM5a",
        "outputId": "66403ed5-5ac8-4205-bbbe-4edfa51d8e15"
      },
      "execution_count": 24,
      "outputs": [
        {
          "output_type": "stream",
          "name": "stdout",
          "text": [
            "+--------------------+---------------+\n",
            "|                text|final_sentiment|\n",
            "+--------------------+---------------+\n",
            "|Anyone know how o...|     [positive]|\n",
            "|We all know about...|     [negative]|\n",
            "|I yearn for Wild ...|     [positive]|\n",
            "|trying new sierra...|     [negative]|\n",
            "|Pepsi says Zero S...|     [negative]|\n",
            "|Pepsi Cd case I f...|     [positive]|\n",
            "|Is anyone here a ...|     [negative]|\n",
            "|Pepsi Cola Soda S...|     [positive]|\n",
            "|Please support my...|     [positive]|\n",
            "|Imma keep buying ...|     [negative]|\n",
            "|Contact Form to l...|     [positive]|\n",
            "|Mountain Dew pitc...|     [negative]|\n",
            "|I found it it’s back|     [positive]|\n",
            "|The new Pepsi Zer...|     [positive]|\n",
            "|Is this caffeine ...|     [negative]|\n",
            "|        Starry Sucks|     [negative]|\n",
            "|is starry replaci...|     [positive]|\n",
            "|Mountain Dew Pitc...|     [negative]|\n",
            "|         New formula|     [negative]|\n",
            "|Is PepsiCola crea...|     [positive]|\n",
            "+--------------------+---------------+\n",
            "only showing top 20 rows\n",
            "\n"
          ]
        }
      ]
    },
    {
      "cell_type": "code",
      "source": [
        "df_pandas_pepsi = result_4.toPandas()"
      ],
      "metadata": {
        "id": "neQx0AfNBgja"
      },
      "execution_count": 25,
      "outputs": []
    },
    {
      "cell_type": "code",
      "source": [
        "show_result_pepsi = df_pandas_pepsi['final_sentiment'].value_counts()\n",
        "\n",
        "print(show_result_pepsi)"
      ],
      "metadata": {
        "colab": {
          "base_uri": "https://localhost:8080/"
        },
        "id": "06c_G2OEB4li",
        "outputId": "be59821c-a324-4d5d-e48d-72829e4752db"
      },
      "execution_count": 26,
      "outputs": [
        {
          "output_type": "stream",
          "name": "stdout",
          "text": [
            "[negative]    56\n",
            "[positive]    36\n",
            "[na]           8\n",
            "Name: final_sentiment, dtype: int64\n"
          ]
        }
      ]
    },
    {
      "cell_type": "code",
      "source": [
        "pandasDF"
      ],
      "metadata": {
        "colab": {
          "base_uri": "https://localhost:8080/",
          "height": 424
        },
        "id": "IbDbFwWT5ikK",
        "outputId": "9c5e3a49-e34b-49f9-8909-e5e591e7dbf6"
      },
      "execution_count": 27,
      "outputs": [
        {
          "output_type": "execute_result",
          "data": {
            "text/plain": [
              "                                                 text final_sentiment\n",
              "0   Found these at my local Mexican restaurant tod...      [negative]\n",
              "1   Has anyone seen this in our American stores? I...      [negative]\n",
              "2          How wide and tall is a glass Coca Cola cap      [positive]\n",
              "3   Here’s something I created, inspired by my lov...      [positive]\n",
              "4   Coca-Cola, 1971 - 'Hilltop' | \"I'd like to buy...      [positive]\n",
              "..                                                ...             ...\n",
              "95  A Kind of Magic - Danna Paola, Felukah, Tamtam...      [negative]\n",
              "96  Dreamworld Coke That I Had When I Went To The ...      [positive]\n",
              "97  anyone know where I can find the 35 can pack f...      [positive]\n",
              "98  90's me looking like I was plucked from a coca...      [negative]\n",
              "99                       for my starlight coke lovers      [positive]\n",
              "\n",
              "[100 rows x 2 columns]"
            ],
            "text/html": [
              "\n",
              "  <div id=\"df-83fad45f-1d46-4164-bdbb-86974ce26501\">\n",
              "    <div class=\"colab-df-container\">\n",
              "      <div>\n",
              "<style scoped>\n",
              "    .dataframe tbody tr th:only-of-type {\n",
              "        vertical-align: middle;\n",
              "    }\n",
              "\n",
              "    .dataframe tbody tr th {\n",
              "        vertical-align: top;\n",
              "    }\n",
              "\n",
              "    .dataframe thead th {\n",
              "        text-align: right;\n",
              "    }\n",
              "</style>\n",
              "<table border=\"1\" class=\"dataframe\">\n",
              "  <thead>\n",
              "    <tr style=\"text-align: right;\">\n",
              "      <th></th>\n",
              "      <th>text</th>\n",
              "      <th>final_sentiment</th>\n",
              "    </tr>\n",
              "  </thead>\n",
              "  <tbody>\n",
              "    <tr>\n",
              "      <th>0</th>\n",
              "      <td>Found these at my local Mexican restaurant tod...</td>\n",
              "      <td>[negative]</td>\n",
              "    </tr>\n",
              "    <tr>\n",
              "      <th>1</th>\n",
              "      <td>Has anyone seen this in our American stores? I...</td>\n",
              "      <td>[negative]</td>\n",
              "    </tr>\n",
              "    <tr>\n",
              "      <th>2</th>\n",
              "      <td>How wide and tall is a glass Coca Cola cap</td>\n",
              "      <td>[positive]</td>\n",
              "    </tr>\n",
              "    <tr>\n",
              "      <th>3</th>\n",
              "      <td>Here’s something I created, inspired by my lov...</td>\n",
              "      <td>[positive]</td>\n",
              "    </tr>\n",
              "    <tr>\n",
              "      <th>4</th>\n",
              "      <td>Coca-Cola, 1971 - 'Hilltop' | \"I'd like to buy...</td>\n",
              "      <td>[positive]</td>\n",
              "    </tr>\n",
              "    <tr>\n",
              "      <th>...</th>\n",
              "      <td>...</td>\n",
              "      <td>...</td>\n",
              "    </tr>\n",
              "    <tr>\n",
              "      <th>95</th>\n",
              "      <td>A Kind of Magic - Danna Paola, Felukah, Tamtam...</td>\n",
              "      <td>[negative]</td>\n",
              "    </tr>\n",
              "    <tr>\n",
              "      <th>96</th>\n",
              "      <td>Dreamworld Coke That I Had When I Went To The ...</td>\n",
              "      <td>[positive]</td>\n",
              "    </tr>\n",
              "    <tr>\n",
              "      <th>97</th>\n",
              "      <td>anyone know where I can find the 35 can pack f...</td>\n",
              "      <td>[positive]</td>\n",
              "    </tr>\n",
              "    <tr>\n",
              "      <th>98</th>\n",
              "      <td>90's me looking like I was plucked from a coca...</td>\n",
              "      <td>[negative]</td>\n",
              "    </tr>\n",
              "    <tr>\n",
              "      <th>99</th>\n",
              "      <td>for my starlight coke lovers</td>\n",
              "      <td>[positive]</td>\n",
              "    </tr>\n",
              "  </tbody>\n",
              "</table>\n",
              "<p>100 rows × 2 columns</p>\n",
              "</div>\n",
              "      <button class=\"colab-df-convert\" onclick=\"convertToInteractive('df-83fad45f-1d46-4164-bdbb-86974ce26501')\"\n",
              "              title=\"Convert this dataframe to an interactive table.\"\n",
              "              style=\"display:none;\">\n",
              "        \n",
              "  <svg xmlns=\"http://www.w3.org/2000/svg\" height=\"24px\"viewBox=\"0 0 24 24\"\n",
              "       width=\"24px\">\n",
              "    <path d=\"M0 0h24v24H0V0z\" fill=\"none\"/>\n",
              "    <path d=\"M18.56 5.44l.94 2.06.94-2.06 2.06-.94-2.06-.94-.94-2.06-.94 2.06-2.06.94zm-11 1L8.5 8.5l.94-2.06 2.06-.94-2.06-.94L8.5 2.5l-.94 2.06-2.06.94zm10 10l.94 2.06.94-2.06 2.06-.94-2.06-.94-.94-2.06-.94 2.06-2.06.94z\"/><path d=\"M17.41 7.96l-1.37-1.37c-.4-.4-.92-.59-1.43-.59-.52 0-1.04.2-1.43.59L10.3 9.45l-7.72 7.72c-.78.78-.78 2.05 0 2.83L4 21.41c.39.39.9.59 1.41.59.51 0 1.02-.2 1.41-.59l7.78-7.78 2.81-2.81c.8-.78.8-2.07 0-2.86zM5.41 20L4 18.59l7.72-7.72 1.47 1.35L5.41 20z\"/>\n",
              "  </svg>\n",
              "      </button>\n",
              "      \n",
              "  <style>\n",
              "    .colab-df-container {\n",
              "      display:flex;\n",
              "      flex-wrap:wrap;\n",
              "      gap: 12px;\n",
              "    }\n",
              "\n",
              "    .colab-df-convert {\n",
              "      background-color: #E8F0FE;\n",
              "      border: none;\n",
              "      border-radius: 50%;\n",
              "      cursor: pointer;\n",
              "      display: none;\n",
              "      fill: #1967D2;\n",
              "      height: 32px;\n",
              "      padding: 0 0 0 0;\n",
              "      width: 32px;\n",
              "    }\n",
              "\n",
              "    .colab-df-convert:hover {\n",
              "      background-color: #E2EBFA;\n",
              "      box-shadow: 0px 1px 2px rgba(60, 64, 67, 0.3), 0px 1px 3px 1px rgba(60, 64, 67, 0.15);\n",
              "      fill: #174EA6;\n",
              "    }\n",
              "\n",
              "    [theme=dark] .colab-df-convert {\n",
              "      background-color: #3B4455;\n",
              "      fill: #D2E3FC;\n",
              "    }\n",
              "\n",
              "    [theme=dark] .colab-df-convert:hover {\n",
              "      background-color: #434B5C;\n",
              "      box-shadow: 0px 1px 3px 1px rgba(0, 0, 0, 0.15);\n",
              "      filter: drop-shadow(0px 1px 2px rgba(0, 0, 0, 0.3));\n",
              "      fill: #FFFFFF;\n",
              "    }\n",
              "  </style>\n",
              "\n",
              "      <script>\n",
              "        const buttonEl =\n",
              "          document.querySelector('#df-83fad45f-1d46-4164-bdbb-86974ce26501 button.colab-df-convert');\n",
              "        buttonEl.style.display =\n",
              "          google.colab.kernel.accessAllowed ? 'block' : 'none';\n",
              "\n",
              "        async function convertToInteractive(key) {\n",
              "          const element = document.querySelector('#df-83fad45f-1d46-4164-bdbb-86974ce26501');\n",
              "          const dataTable =\n",
              "            await google.colab.kernel.invokeFunction('convertToInteractive',\n",
              "                                                     [key], {});\n",
              "          if (!dataTable) return;\n",
              "\n",
              "          const docLinkHtml = 'Like what you see? Visit the ' +\n",
              "            '<a target=\"_blank\" href=https://colab.research.google.com/notebooks/data_table.ipynb>data table notebook</a>'\n",
              "            + ' to learn more about interactive tables.';\n",
              "          element.innerHTML = '';\n",
              "          dataTable['output_type'] = 'display_data';\n",
              "          await google.colab.output.renderOutput(dataTable, element);\n",
              "          const docLink = document.createElement('div');\n",
              "          docLink.innerHTML = docLinkHtml;\n",
              "          element.appendChild(docLink);\n",
              "        }\n",
              "      </script>\n",
              "    </div>\n",
              "  </div>\n",
              "  "
            ]
          },
          "metadata": {},
          "execution_count": 27
        }
      ]
    },
    {
      "cell_type": "code",
      "source": [
        "sentiment_json = "
      ],
      "metadata": {
        "id": "i_xWXx6mt3rI"
      },
      "execution_count": null,
      "outputs": []
    },
    {
      "cell_type": "code",
      "source": [
        "list_line = []\n",
        "\n",
        "dict_coca = pd.DataFrame({\n",
        "    'name': 'Cocacola',\n",
        "    'Negative ' : [show_result[0]], \n",
        "    'Positive' : [show_result[1]],\n",
        "    'General' : [show_result[2]]\n",
        "})\n",
        "\n",
        "\n",
        "j = dict_coca.loc[0]\n",
        "print(j)\n",
        "json_coca = j.to_json()\n",
        "json_encode = json_coca.encode()\n",
        "\n",
        "\n",
        "dict_pepsi = pd.DataFrame({\n",
        "    'name' : 'Pepsi',\n",
        "    'Negative ' : [show_result_pepsi[0]], \n",
        "    'Positive' : [show_result_pepsi[1]],\n",
        "    'General' : [show_result_pepsi[2]]\n",
        "})\n",
        "\n",
        "y = dict_pepsi.loc[0]\n",
        "#print(y)\n",
        "json_pepsi = y.to_json()\n",
        "json_encode2 = json_pepsi.encode()\n",
        "\n",
        "\n",
        "\n",
        "list_line.append(json_encode)\n",
        "list_line.append(json_encode2)"
      ],
      "metadata": {
        "id": "L67FmISEoO0o",
        "outputId": "9bc3a7fc-e2ae-4eaa-9394-5cadedcec13d",
        "colab": {
          "base_uri": "https://localhost:8080/"
        }
      },
      "execution_count": 85,
      "outputs": [
        {
          "output_type": "stream",
          "name": "stdout",
          "text": [
            "name         Cocacola\n",
            "Negative           50\n",
            "Positive           32\n",
            "General            16\n",
            "Name: 0, dtype: object\n"
          ]
        }
      ]
    },
    {
      "cell_type": "markdown",
      "source": [
        "## Kafka Producer "
      ],
      "metadata": {
        "id": "6lBJVwbWzUXT"
      }
    },
    {
      "cell_type": "code",
      "source": [
        "!pip install confluent_kafka"
      ],
      "metadata": {
        "colab": {
          "base_uri": "https://localhost:8080/"
        },
        "id": "bs_i29ovbGZx",
        "outputId": "23d02d55-21d1-4183-9fe0-4c5d34825516"
      },
      "execution_count": 28,
      "outputs": [
        {
          "output_type": "stream",
          "name": "stdout",
          "text": [
            "Looking in indexes: https://pypi.org/simple, https://us-python.pkg.dev/colab-wheels/public/simple/\n",
            "Collecting confluent_kafka\n",
            "  Downloading confluent_kafka-1.9.2-cp38-cp38-manylinux_2_17_x86_64.manylinux2014_x86_64.whl (3.1 MB)\n",
            "\u001b[2K     \u001b[90m━━━━━━━━━━━━━━━━━━━━━━━━━━━━━━━━━━━━━━━━\u001b[0m \u001b[32m3.1/3.1 MB\u001b[0m \u001b[31m31.9 MB/s\u001b[0m eta \u001b[36m0:00:00\u001b[0m\n",
            "\u001b[?25hInstalling collected packages: confluent_kafka\n",
            "Successfully installed confluent_kafka-1.9.2\n"
          ]
        }
      ]
    },
    {
      "cell_type": "code",
      "source": [
        "\n",
        "from confluent_kafka import Producer\n",
        "import time\n",
        "import json\n",
        "from uuid import uuid4\n",
        "\n",
        "p = Producer({'bootstrap.servers': 'ec2-13-229-46-113.ap-southeast-1.compute.amazonaws.com:9092'})\n",
        "\n",
        "def delivery_report(err, msg):\n",
        "    \"\"\" Called once for each message produced to indicate delivery result.\n",
        "        Triggered by poll() or flush(). \"\"\"\n",
        "    if err is not None:\n",
        "        print('Message delivery failed: {}'.format(err))\n",
        "    else:\n",
        "        print('Message delivered to {}'.format(msg.value().decode('utf-8')))\n",
        "\n",
        "\n",
        "for line in list_line:\n",
        "    p.poll(0)\n",
        "    sendMsg = line # line.encode().decode('utf-8').strip('\\n')\n",
        "    p.produce('producer3', key=str(uuid4()), value=sendMsg , callback=delivery_report)\n",
        "    #time.sleep(5)\n",
        "\n",
        "p.flush()"
      ],
      "metadata": {
        "id": "zVGo-XKHqcEH",
        "outputId": "bfed6e11-2d71-450e-fa19-ee27b7f96812",
        "colab": {
          "base_uri": "https://localhost:8080/"
        }
      },
      "execution_count": 102,
      "outputs": [
        {
          "output_type": "stream",
          "name": "stdout",
          "text": [
            "Message delivered to {\"name\":\"Cocacola\",\"Negative \":50,\"Positive\":32,\"General\":16}\n",
            "Message delivered to {\"name\":\"Pepsi\",\"Negative \":56,\"Positive\":36,\"General\":8}\n"
          ]
        },
        {
          "output_type": "execute_result",
          "data": {
            "text/plain": [
              "0"
            ]
          },
          "metadata": {},
          "execution_count": 102
        }
      ]
    }
  ]
}